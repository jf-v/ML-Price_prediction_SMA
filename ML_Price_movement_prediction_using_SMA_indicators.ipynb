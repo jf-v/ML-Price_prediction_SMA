{
  "nbformat": 4,
  "nbformat_minor": 0,
  "metadata": {
    "colab": {
      "provenance": [],
      "authorship_tag": "ABX9TyNaRtctA9aHwNBUVgPLHOSB",
      "include_colab_link": true
    },
    "kernelspec": {
      "name": "python3",
      "display_name": "Python 3"
    },
    "language_info": {
      "name": "python"
    }
  },
  "cells": [
    {
      "cell_type": "markdown",
      "metadata": {
        "id": "view-in-github",
        "colab_type": "text"
      },
      "source": [
        "<a href=\"https://colab.research.google.com/github/jf-v/ML-Price_prediction_SMA/blob/main/ML_Price_movement_prediction_using_SMA_indicators.ipynb\" target=\"_parent\"><img src=\"https://colab.research.google.com/assets/colab-badge.svg\" alt=\"Open In Colab\"/></a>"
      ]
    },
    {
      "cell_type": "markdown",
      "source": [
        "# Machine Learning for price movement prediction using SMA indicators \n",
        "\n",
        "\n",
        "* Data for model training from: [CryptoDataDownload](https://www.cryptodatadownload.com/)\n",
        "* Data for predictions obtained with [cryptowatch-sdk](https://github.com/cryptowatch/cw-sdk-python)\n",
        "* Model save and load with pickle library\n",
        "\n",
        "\n",
        "How to use this notebook:\n",
        "\n",
        "\n",
        "**Create model**\n",
        "\n",
        "*   **Create and train a new model**: execute cells from 1 to 6. Can save the model to local computer or google drive on cell 7\n",
        "\n",
        "\n",
        "**Load model (instead of creating it again)**\n",
        "\n",
        "*   **Load a pretrained model** on cell 8. Execute first cells 1,2 and 4\n",
        "\n",
        "\n",
        "**Predictions**\n",
        "\n",
        "*   Execute **Prediction Init**(cell 9). Can be used recent price data from  different exchanges or input a custom historic bar data\n",
        "\n",
        "*   After the model was created or loaded and the prediction init cell was executed, **Run the model prediction**(cell 10) any times as needed. It can predict for a historic bar selected by shift toward current bar(0), or for a bar series starting from current to do backtesting.\n",
        "\n",
        "\n",
        "** DISCLAIMER: The resources available on this project are purely and exclusively for educational purposes, and are not intended as, and shall not be understood or construed as, financial advice. I am not an attorney, accountant of financial advisor, nor am I holding myself out to be, and the information contained on this project are not a substitute for financial advice from a professional.\n",
        "\n",
        "\n",
        "\n"
      ],
      "metadata": {
        "id": "ON2PYjA289qZ"
      }
    },
    {
      "cell_type": "markdown",
      "source": [
        "# Create model"
      ],
      "metadata": {
        "id": "jNpxURwzDJHC"
      }
    },
    {
      "cell_type": "code",
      "execution_count": 1,
      "metadata": {
        "id": "hwaY6UhU355q",
        "cellView": "form",
        "colab": {
          "base_uri": "https://localhost:8080/"
        },
        "outputId": "02d55e40-a200-4bda-c10d-89e7b7b0ab90"
      },
      "outputs": [
        {
          "output_type": "stream",
          "name": "stdout",
          "text": [
            "--2022-12-31 19:26:18--  https://www.cryptodatadownload.com/cdd/Bitstamp_BTCUSDT_1h.csv\n",
            "Resolving www.cryptodatadownload.com (www.cryptodatadownload.com)... 35.173.69.207\n",
            "Connecting to www.cryptodatadownload.com (www.cryptodatadownload.com)|35.173.69.207|:443... connected.\n",
            "HTTP request sent, awaiting response... 200 OK\n",
            "Length: 621831 (607K) [text/csv]\n",
            "Saving to: ‘data.csv’\n",
            "\n",
            "data.csv            100%[===================>] 607.26K  2.45MB/s    in 0.2s    \n",
            "\n",
            "2022-12-31 19:26:19 (2.45 MB/s) - ‘data.csv’ saved [621831/621831]\n",
            "\n",
            "Price data shape: (6556, 9)\n"
          ]
        }
      ],
      "source": [
        "#@title # 1.  **Download price data** and convert it into a DataFrame\n",
        "#@markdown * Data from cryptodatadownload.com\n",
        "#@markdown * Check available symbols and timeframes on https://www.cryptodatadownload.com/data/bitstamp/   links to each csv\n",
        "#@markdown * Symbol: BTCUSDT, ETHUSDT and more available\n",
        "Symbol = \"BTCUSDT\" #@param {type:\"string\"}\n",
        "Timeframe = \"1h\" #@param [\"1h\", \"d\"]\n",
        "\n",
        "\n",
        "# download price data of binance\n",
        "data_url='https://www.cryptodatadownload.com/cdd/Bitstamp_'+Symbol+'_'+Timeframe+'.csv' \n",
        "data_path='data.csv'\n",
        "!wget -O $data_path $data_url\n",
        "\n",
        "\n",
        "# Load the historical price data to a dataframe\n",
        "import pandas as pd\n",
        "df = pd.read_csv(data_path, skiprows=1)\n",
        "df.head()\n",
        "print('Price data shape: '+str(df.shape))"
      ]
    },
    {
      "cell_type": "code",
      "source": [
        "#@title # 2.  Calculate **indicators**\n",
        "sma_1 = 25 #@param {type:\"integer\"}\n",
        "sma_2 = 125 #@param {type:\"integer\"}\n",
        "show_previous_bars = 800 #@param {type:\"integer\"}\n",
        "# Calculate the indicators based on the 'close' values\n",
        "df['indicator_1'] = df['close'][::-1].rolling(sma_1).mean()[::-1]  # reverse the column, apply rolling and mean, then reverse it again\n",
        "df['indicator_2'] = df['close'][::-1].rolling(sma_2).mean()[::-1]  # reverse the column, apply rolling and mean, then reverse it again\n",
        "\n",
        "\n",
        "# Plot the indicator values for the last bars\n",
        "\n",
        "import matplotlib.pyplot as plt\n",
        "from matplotlib.ticker import MaxNLocator\n",
        "bars = show_previous_bars\n",
        "\n",
        "#   Define plot x,y\n",
        "x = df['date'][:bars]\n",
        "y = df['close'][:bars]\n",
        "plt.plot(x,y,label='Close')\n",
        "\n",
        "#   Calculate indicators\n",
        "plt.plot(df['indicator_1'][:bars],label='SMA('+str(sma_1)+')',linestyle='dotted')\n",
        "plt.plot(df['indicator_2'][:bars],label='SMA('+str(sma_2)+')',linestyle='dotted')\n",
        "plt.legend()\n",
        "\n",
        "#   Set title and labels\n",
        "plt.title('Price data with Indicators: last '+str(show_previous_bars)+' bars')\n",
        "plt.xlabel('Date')\n",
        "plt.ylabel('Close Price')\n",
        "\n",
        "#   Fix dates ticks\n",
        "ax = plt.gca()\n",
        "xticks = ax.get_xticks()\n",
        "ax.set_xticks(xticks[::len(xticks) //7])  # set new tick positions\n",
        "ax.tick_params(axis='x', rotation=90)     # set tick rotation\n",
        "\n",
        "#   Invert x orientation\n",
        "plt.gca().invert_xaxis()\n",
        "\n",
        "#   Set graph size and show it\n",
        "plt.rcParams[\"figure.figsize\"] = (20,7)\n",
        "plt.show()\n"
      ],
      "metadata": {
        "colab": {
          "base_uri": "https://localhost:8080/",
          "height": 391
        },
        "id": "RcGVha8NQ5OI",
        "outputId": "76c877f7-7311-475f-dea2-b9700094987a",
        "cellView": "form"
      },
      "execution_count": 2,
      "outputs": [
        {
          "output_type": "display_data",
          "data": {
            "text/plain": [
              "<Figure size 432x288 with 1 Axes>"
            ],
            "image/png": "[encoded data removed]"
          },
          "metadata": {
            "needs_background": "light"
          }
        }
      ]
    },
    {
      "cell_type": "code",
      "source": [
        "#@title # 3.  Prepare a **new column with future prices** by a shift bar. Later, use this as a **target** to train the model for price movement prediction\n",
        "#@markdown * Price shift will determine the time target for the prediction, and is based on the price data timeframe. If is H1, then the shift will be the amount of hours toward future for the prediction\n",
        "future_price_shift = 10 #@param {type:\"integer\"}\n",
        "\n",
        "import numpy as np\n",
        "\n",
        "# Shift the close price column by 5 slots to create the target column\n",
        "df[\"price_change\"] = df[\"close\"].shift(-(future_price_shift))\n",
        "\n",
        "# Calculate the change in price between the current and the next slots\n",
        "df[\"price_change\"] = df[\"price_change\"] - df[\"close\"]\n",
        "\n",
        "# Create a target column that indicates whether the price will go up (1) or down (-1)\n",
        "df[\"target\"] = np.where(df[\"price_change\"] > 0, 1, -1)\n",
        "\n",
        "# Drop rows with missing values (there will be some at the end of the dataframe)\n",
        "df.dropna(inplace=True)\n",
        "\n",
        "# Define the labels\n",
        "y = df[\"target\"]"
      ],
      "metadata": {
        "cellView": "form",
        "id": "8ze7sD3TWW9-"
      },
      "execution_count": null,
      "outputs": []
    },
    {
      "cell_type": "markdown",
      "source": [
        "Define the **input columns**"
      ],
      "metadata": {
        "id": "dBJKdjr3XjzY"
      }
    },
    {
      "cell_type": "code",
      "source": [
        "#@title # 4.  Define the model **inputs**\n",
        "# Preprocess the data to prepare it for training the model:\n",
        "\n",
        "from sklearn.preprocessing import StandardScaler\n",
        "\n",
        "# Select the relevant features to use as input for the model\n",
        "X = df[[\"close\", \"indicator_1\", \"indicator_2\"]]\n",
        "\n",
        "# Normalize the data\n",
        "scaler = StandardScaler()\n",
        "X_scaled = scaler.fit_transform(X)"
      ],
      "metadata": {
        "id": "u5seJX_SZRPA",
        "cellView": "form"
      },
      "execution_count": 3,
      "outputs": []
    },
    {
      "cell_type": "code",
      "source": [
        "#@title # 5.  **Init** the model and **train** it: RandomForestClassifier\n",
        "from sklearn.ensemble import RandomForestClassifier\n",
        "\n",
        "# Define the model and its parameters\n",
        "model = RandomForestClassifier(n_estimators=100, max_depth=10)\n",
        "\n",
        "# Train the model\n",
        "model.fit(X_scaled, y)\n",
        "\n",
        "# Evaluate the model using cross-validation\n",
        "from sklearn.model_selection import cross_val_score\n",
        "scores = cross_val_score(model, X_scaled, y, cv=5)\n",
        "\n",
        "# Print the mean and standard deviation of the scores\n",
        "print(f\"Mean score: {np.mean(scores):.2f}\")\n",
        "print(f\"Standard deviation: {np.std(scores):.2f}\")"
      ],
      "metadata": {
        "colab": {
          "base_uri": "https://localhost:8080/"
        },
        "id": "gr1ed3TR3Jyg",
        "outputId": "93a4bfb1-42b7-42b3-ddc1-b77d5cf77cc2",
        "cellView": "form"
      },
      "execution_count": null,
      "outputs": [
        {
          "output_type": "stream",
          "name": "stdout",
          "text": [
            "Mean score: 0.58\n",
            "Standard deviation: 0.05\n"
          ]
        }
      ]
    },
    {
      "cell_type": "code",
      "source": [
        "#@title # 6.  Apply **Hyperparameter tuning** using grid search\n",
        "from sklearn.model_selection import GridSearchCV\n",
        "\n",
        "# Define the model\n",
        "model = RandomForestClassifier()\n",
        "\n",
        "# Define the hyperparameter grid\n",
        "param_grid = {\n",
        "    \"n_estimators\": [10, 50, 100, 200],\n",
        "    \"max_depth\": [5, 10, 20, None],\n",
        "}\n",
        "\n",
        "# Use grid search to find the best combination of hyperparameters\n",
        "grid_search = GridSearchCV(model, param_grid, cv=5)\n",
        "grid_search.fit(X_scaled, y)\n",
        "\n",
        "# Print the best combination of hyperparameters\n",
        "print('Best combination of hyperparameters:')\n",
        "print(grid_search.best_params_)\n",
        "\n",
        "# Use the best combination of hyperparameters to train the model\n",
        "model = RandomForestClassifier(**grid_search.best_params_)\n",
        "model.fit(X_scaled, y)\n",
        "\n",
        "# Evaluate the model using cross-validation\n",
        "scores = cross_val_score(model, X_scaled, y, cv=5)\n",
        "\n",
        "# Print the mean and standard deviation of the scores\n",
        "print(f\"Mean score: {np.mean(scores):.2f}\")\n",
        "print(f\"Standard deviation: {np.std(scores):.2f}\")"
      ],
      "metadata": {
        "id": "Xo83qgl3zGY4",
        "colab": {
          "base_uri": "https://localhost:8080/"
        },
        "outputId": "5cb99df9-4f25-4dfb-f35a-6bbd269d3b6b",
        "cellView": "form"
      },
      "execution_count": null,
      "outputs": [
        {
          "output_type": "stream",
          "name": "stdout",
          "text": [
            "{'max_depth': None, 'n_estimators': 50}\n",
            "Mean score: 0.58\n",
            "Standard deviation: 0.05\n"
          ]
        }
      ]
    },
    {
      "cell_type": "code",
      "source": [
        "#@title # 7.  **Save** trained model with pickle library\n",
        "Download = False #@param {type:\"boolean\"}\n",
        "Save_to_drive = False #@param {type:\"boolean\"}\n",
        "model_name = \"ML-Binance_BTCUSDT_H1-sma-shift_10\" #@param {type:\"string\"}\n",
        "\n",
        "content_folder=''\n",
        "\n",
        "\n",
        "#   Prepare drive\n",
        "\n",
        "if Save_to_drive:\n",
        "  import os \n",
        "  from google.colab import drive\n",
        "  drive.mount('/content/gdrive')      # mount drive\n",
        "  \n",
        "  content_folder = \"/content/gdrive/MyDrive\"  \n",
        "  os.chdir(content_folder)    \n",
        "  \n",
        "  folder = \"ML-Price_prediction_SMA\"\n",
        "  if os.path.isdir(folder)==False:\n",
        "    os.mkdir(folder)    \n",
        "  content_folder += \"/\"+folder+'/'\n",
        "  \n",
        "\n",
        "#   Save model to pickle file\n",
        "\n",
        "import pickle\n",
        "\n",
        "file_path = content_folder+model_name+'.pkl'\n",
        "with open(file_path, 'wb') as model_file:\n",
        "  pickle.dump(model, model_file)\n",
        "  if Save_to_drive: print(\"Saved on folder: \"+content_folder)\n",
        "\n",
        "\n",
        "#   Download to local computer\n",
        "\n",
        "if Download:       \n",
        "  from google.colab import files       \n",
        "  files.download(file_path)  "
      ],
      "metadata": {
        "id": "U97eSA6T_SgM",
        "colab": {
          "base_uri": "https://localhost:8080/"
        },
        "cellView": "form",
        "outputId": "f0266ba9-2909-4a8e-a2f2-36bab13b1458"
      },
      "execution_count": null,
      "outputs": [
        {
          "output_type": "stream",
          "name": "stdout",
          "text": [
            "Saved on folder: \n"
          ]
        }
      ]
    },
    {
      "cell_type": "markdown",
      "source": [
        "______________________________________________________________________________________________________________________________________________"
      ],
      "metadata": {
        "id": "Cb25S_F5BBJu"
      }
    },
    {
      "cell_type": "markdown",
      "source": [
        "# Load model"
      ],
      "metadata": {
        "id": "l47QwpVEDRWb"
      }
    },
    {
      "cell_type": "code",
      "source": [
        "#@title # 8.  **Load** pretrained model with pickle library\n",
        "#@markdown # Execute cells 1, 2, 4  before to run this one\n",
        "#@markdown To load a saved model from a Pickle file, all you need to do is pass the “pickled” model into the Pickle load() function and it will be deserialized. By assigning this back to a model object, you can then run your original model’s predict() function, pass in some test data and get back an array of predictions.\n",
        "model_name = \"ML-Binance_BTCUSDT_H1-sma-shift_10\" #@param {type:\"string\"}\n",
        "Load_from_drive = True #@param {type:\"boolean\"}\n",
        "#@markdown * Input the sma periods used on the loaded model\n",
        "sma_1 = 25 #@param {type:\"integer\"}\n",
        "sma_2 = 125 #@param {type:\"integer\"}\n",
        "\n",
        "\n",
        "model_loaded=True\n",
        "content_folder=''\n",
        "\n",
        "#   Prepare drive\n",
        "\n",
        "if Load_from_drive:\n",
        "  import os \n",
        "  from google.colab import drive\n",
        "  drive.mount('/content/gdrive')      # mount drive\n",
        "  \n",
        "  content_folder = \"/content/gdrive/MyDrive\"  \n",
        "  os.chdir(content_folder)    \n",
        "  \n",
        "  folder = \"ML-Price_prediction_SMA\"\n",
        "  if os.path.isdir(folder)==False:\n",
        "    print(\"Error: default models folder doesn't exist on drive\")\n",
        "  content_folder += \"/\"+folder+'/'\n",
        "\n",
        "\n",
        "#   Load model from pickle file\n",
        "\n",
        "import pickle\n",
        "model = pickle.load(open(content_folder+model_name+'.pkl', 'rb'))\n",
        "if model != None: print('Success to load model: '+model_name)\n",
        "# model.predict(X_test)     use it like this\n",
        "\n"
      ],
      "metadata": {
        "id": "UMuqVwC6AqBT",
        "colab": {
          "base_uri": "https://localhost:8080/"
        },
        "outputId": "5bae2fe7-af3c-4621-e9d3-f44b42b28a36",
        "cellView": "form"
      },
      "execution_count": 4,
      "outputs": [
        {
          "output_type": "stream",
          "name": "stdout",
          "text": [
            "Mounted at /content/gdrive\n",
            "Success to load model: ML-Binance_BTCUSDT_H1-sma-shift_10\n"
          ]
        }
      ]
    },
    {
      "cell_type": "markdown",
      "source": [
        "__________________________________________________________________________________________________________________________"
      ],
      "metadata": {
        "id": "dVCNSJIZuPNq"
      }
    },
    {
      "cell_type": "markdown",
      "source": [
        "# Predictions"
      ],
      "metadata": {
        "id": "WiFuSmHsDYMJ"
      }
    },
    {
      "cell_type": "code",
      "source": [
        "#@title # 9.  Prediction **init**\n",
        "Use_cryptowatch_prices = True #@param {type:\"boolean\"}\n",
        "#@markdown * Enter the same symbol and timeframe than the one used for training the model\n",
        "symbol = \"BTCUSDT\" #@param {type:\"string\"}\n",
        "timeframe = \"1h\" #@param [\"1h\",\"1d\"]\n",
        "#@markdown * Select exchange\n",
        "exchange = \"Binance\" #@param [\"Binance\", \"Huobi\", \"Kraken\", \"Coinbase Pro\", \"Crypto.com\", \"Bitfinex\", \"Bitstamp\"]\n",
        "\n",
        "#   Check the model\n",
        "try:\n",
        "  model\n",
        "except NameError as e:\n",
        "  print('There is not available model yet. Load or create a new one first\\n')\n",
        "\n",
        "\n",
        "#   Use recent price data from binance exchange, to make predictions\n",
        "\n",
        "if Use_cryptowatch_prices:\n",
        "  print('Installing cryptowatch-sdk to get prices data')\n",
        "  !pip install cryptowatch-sdk\n",
        "  import cryptowatch as cw\n",
        "\n",
        "\n",
        "#   Predictions function, it will return a string with the result\n",
        "\n",
        "def predict(close,indicator_1,indicator_2,probability_threshold):\n",
        "  # Select the features for the new data\n",
        "  inputs = {'close':[close], \n",
        "            'indicator_1':[indicator_1], \n",
        "            'indicator_2':[indicator_2]}\n",
        "  X_new = pd.DataFrame(inputs)\n",
        "\n",
        "  # Normalize the data\n",
        "  #X_new_scaled = scaler.fit_transform(X_new)\n",
        "  X_new_scaled = scaler.transform(X_new)\n",
        "\n",
        "  # Make a prediction using the model\n",
        "  prediction = model.predict(X_new_scaled)\n",
        "\n",
        "  # Make a probabilities prediction using the model\n",
        "  probabilities = model.predict_proba(X_new_scaled)\n",
        "  probability = str(probabilities[[0]]).split()\n",
        "\n",
        "  # Return the prediction: Outputs either 1(buy) or -1(sell)\n",
        "  result = \"\"\n",
        "  p = 0\n",
        "  if prediction[0] == 1:  \n",
        "    p = float(probability[1].replace(\"]\",\"\")[0:4])*100\n",
        "    result+=(\"B U Y    (\"+str(p)+\" % probability)\")\n",
        "  else:                   \n",
        "    p = float(probability[0].replace(\"[\",\"\")[0:4])*100\n",
        "    result+=(\"S E L L  (\"+str(p)+\" % probability)\")\n",
        "  if p >= probability_threshold:\n",
        "    result += \"  ✓\"\n",
        "  return result"
      ],
      "metadata": {
        "id": "JvTCu2BShbob",
        "cellView": "form"
      },
      "execution_count": null,
      "outputs": []
    },
    {
      "cell_type": "code",
      "source": [
        "#@title # 10.  Make price movement **predictions**\n",
        "#@markdown __________________________________________________________________________________\n",
        "#@markdown # Use recent prices from cryptowatch\n",
        "#@markdown * Make sure that **Use_cryptowatch_prices** was **enabled** on the prediction init cell\n",
        "#@markdown * Enable **refresh data** only once at every new bar, to avoid reaching the requests limit\n",
        "refresh_data = True #@param {type:\"boolean\"}\n",
        "#@markdown * Prediction mode **Single Bar**: enter the bar shift that will be used for prediction, starting from current bar as 0\n",
        "#@markdown * Prediction mode **Bar Series**: enter the amount of bars to get prediction, starting from the current bar\n",
        "Prediction_mode = \"Bar Series\" #@param [\"Single Bar\", \"Bar Series\"]\n",
        "Prediction_shift_or_range = 100 #@param {type:\"integer\"}\n",
        "#@markdown __________________________________________________________________________________\n",
        "#@markdown # Use custom prices\n",
        "#@markdown * Make sure that **Use_cryptowatch_prices** was **disabled** on the prediction init cell\n",
        "#@markdown * Last bar or older. Don't use current bar values until is already closed\n",
        "Close = 16608.63 #@param {type:\"number\"}\n",
        "SMA_1 = 16596.32 #@param {type:\"number\"}\n",
        "SMA_2 = 16739.13 #@param {type:\"number\"}\n",
        "#@markdown __________________________________________________________________________________\n",
        "#@markdown # Prediction probability **threshold** filter (recommended >94%)\n",
        "probability_threshold = 95 #@param {type:\"slider\", min:1, max:100, step:1}\n",
        "\n",
        "##############################################################################\n",
        "\n",
        "print('Prediction for the next bars, based on the shift value used during the model training:\\n\\n')\n",
        "\n",
        "#   Use recent prices for prediction\n",
        "\n",
        "if Use_cryptowatch_prices:\n",
        "  #   Get price data\n",
        "  if refresh_data:\n",
        "    candles = cw.markets.get(exchange+\":\"+symbol, ohlc=True)\n",
        "  \n",
        "  #   Convert cryptowatch response into a DataFrame\n",
        "  if timeframe=='1h': cw_df = pd.DataFrame(candles.of_1h)\n",
        "  else:               cw_df = pd.DataFrame(candles.of_1d)\n",
        "  cw_df.columns = ['close_timestamp', 'open', 'high', 'low', 'close', 'volume_base', 'volume_quote']\n",
        "  cw_df = cw_df.sort_values(['close_timestamp'],ascending=[False])\n",
        "  \n",
        "  #   Calculate the indicators based on the 'close' values\n",
        "  cw_df['indicator_1'] = cw_df['close'][::-1].rolling(sma_1).mean()[::-1]  # reverse the column, apply rolling and mean, then reverse it again\n",
        "  cw_df['indicator_2'] = cw_df['close'][::-1].rolling(sma_2).mean()[::-1]  # reverse the column, apply rolling and mean, then reverse it again\n",
        " \n",
        "  #   Add datetime column\n",
        "  cw_df['time'] =  pd.to_datetime(cw_df['close_timestamp'],unit='s')\n",
        "  #print(cw_df[['time','open','high','low','close','indicator_1','indicator_2']][:(Prediction_bar_shift+1)])\n",
        "  \n",
        "  #   Make a prediction\n",
        "\n",
        "  if Prediction_mode == 'Bar Series':\n",
        "    print(\"Bar Series prediction, starting from current bar at \")\n",
        "    print(cw_df['time'][1:2].astype(str))\n",
        "    print('\\n')\n",
        "    for b in range(Prediction_shift_or_range): \n",
        "      print('Bar '+str(b)+':    '+predict(cw_df['close'][b:(b+1)],cw_df['indicator_1'][b:(b+1)],cw_df['indicator_2'][b:(b+1)],probability_threshold)+'\\n')\n",
        "  else:\n",
        "    b = Prediction_shift_or_range\n",
        "    print(\"Used bar \"+str(b)+\" opened on \"+cw_df['time'][b:b+1].astype(str))\n",
        "    print('\\n')\n",
        "    print(predict(cw_df['close'][b:(b+1)],cw_df['indicator_1'][b:(b+1)],cw_df['indicator_2'][b:(b+1)],probability_threshold))\n",
        "\n",
        "\n",
        "#   Use custom prices for prediction\n",
        "else:  \n",
        "  print(predict(Close,SMA_1,SMA_2,probability_threshold))"
      ],
      "metadata": {
        "colab": {
          "base_uri": "https://localhost:8080/"
        },
        "id": "1cva3DEx4hwl",
        "outputId": "7cc50d2b-0c9b-4fc5-ce8c-6490c4fd3914",
        "cellView": "form"
      },
      "execution_count": 6,
      "outputs": [
        {
          "output_type": "stream",
          "name": "stdout",
          "text": [
            "Prediction for the next bars, based on the shift value used during the model training:\n",
            "\n",
            "\n",
            "Bar Series prediction, starting from current bar at \n",
            "998    2022-12-31 19:00:00\n",
            "Name: time, dtype: object\n",
            "\n",
            "\n",
            "Bar 0:    S E L L  (70.0 % probability)\n",
            "\n",
            "Bar 1:    S E L L  (74.0 % probability)\n",
            "\n",
            "Bar 2:    S E L L  (76.0 % probability)\n",
            "\n",
            "Bar 3:    S E L L  (78.0 % probability)\n",
            "\n",
            "Bar 4:    S E L L  (76.0 % probability)\n",
            "\n",
            "Bar 5:    S E L L  (82.0 % probability)\n",
            "\n",
            "Bar 6:    S E L L  (90.0 % probability)\n",
            "\n",
            "Bar 7:    S E L L  (82.0 % probability)\n",
            "\n",
            "Bar 8:    S E L L  (72.0 % probability)\n",
            "\n",
            "Bar 9:    S E L L  (76.0 % probability)\n",
            "\n",
            "Bar 10:    S E L L  (72.0 % probability)\n",
            "\n",
            "Bar 11:    S E L L  (72.0 % probability)\n",
            "\n",
            "Bar 12:    S E L L  (92.0 % probability)\n",
            "\n",
            "Bar 13:    S E L L  (90.0 % probability)\n",
            "\n",
            "Bar 14:    S E L L  (88.0 % probability)\n",
            "\n",
            "Bar 15:    S E L L  (88.0 % probability)\n",
            "\n",
            "Bar 16:    S E L L  (90.0 % probability)\n",
            "\n",
            "Bar 17:    S E L L  (92.0 % probability)\n",
            "\n",
            "Bar 18:    S E L L  (90.0 % probability)\n",
            "\n",
            "Bar 19:    S E L L  (94.0 % probability)\n",
            "\n",
            "Bar 20:    S E L L  (96.0 % probability)  ✓\n",
            "\n",
            "Bar 21:    S E L L  (96.0 % probability)  ✓\n",
            "\n",
            "Bar 22:    S E L L  (96.0 % probability)  ✓\n",
            "\n",
            "Bar 23:    S E L L  (88.0 % probability)\n",
            "\n",
            "Bar 24:    S E L L  (54.0 % probability)\n",
            "\n",
            "Bar 25:    S E L L  (86.0 % probability)\n",
            "\n",
            "Bar 26:    B U Y    (60.0 % probability)\n",
            "\n",
            "Bar 27:    S E L L  (78.0 % probability)\n",
            "\n",
            "Bar 28:    S E L L  (82.0 % probability)\n",
            "\n",
            "Bar 29:    B U Y    (84.0 % probability)\n",
            "\n",
            "Bar 30:    B U Y    (57.99999999999999 % probability)\n",
            "\n",
            "Bar 31:    B U Y    (62.0 % probability)\n",
            "\n",
            "Bar 32:    B U Y    (57.99999999999999 % probability)\n",
            "\n",
            "Bar 33:    B U Y    (64.0 % probability)\n",
            "\n",
            "Bar 34:    B U Y    (62.0 % probability)\n",
            "\n",
            "Bar 35:    B U Y    (70.0 % probability)\n",
            "\n",
            "Bar 36:    B U Y    (84.0 % probability)\n",
            "\n",
            "Bar 37:    B U Y    (56.00000000000001 % probability)\n",
            "\n",
            "Bar 38:    B U Y    (62.0 % probability)\n",
            "\n",
            "Bar 39:    B U Y    (64.0 % probability)\n",
            "\n",
            "Bar 40:    B U Y    (57.99999999999999 % probability)\n",
            "\n",
            "Bar 41:    B U Y    (54.0 % probability)\n",
            "\n",
            "Bar 42:    B U Y    (52.0 % probability)\n",
            "\n",
            "Bar 43:    S E L L  (54.0 % probability)\n",
            "\n",
            "Bar 44:    S E L L  (54.0 % probability)\n",
            "\n",
            "Bar 45:    S E L L  (74.0 % probability)\n",
            "\n",
            "Bar 46:    S E L L  (76.0 % probability)\n",
            "\n",
            "Bar 47:    S E L L  (74.0 % probability)\n",
            "\n",
            "Bar 48:    S E L L  (76.0 % probability)\n",
            "\n",
            "Bar 49:    S E L L  (72.0 % probability)\n",
            "\n",
            "Bar 50:    S E L L  (76.0 % probability)\n",
            "\n",
            "Bar 51:    S E L L  (72.0 % probability)\n",
            "\n",
            "Bar 52:    S E L L  (88.0 % probability)\n",
            "\n",
            "Bar 53:    S E L L  (74.0 % probability)\n",
            "\n",
            "Bar 54:    S E L L  (78.0 % probability)\n",
            "\n",
            "Bar 55:    S E L L  (76.0 % probability)\n",
            "\n",
            "Bar 56:    S E L L  (64.0 % probability)\n",
            "\n",
            "Bar 57:    S E L L  (68.0 % probability)\n",
            "\n",
            "Bar 58:    B U Y    (52.0 % probability)\n",
            "\n",
            "Bar 59:    B U Y    (72.0 % probability)\n",
            "\n",
            "Bar 60:    B U Y    (80.0 % probability)\n",
            "\n",
            "Bar 61:    B U Y    (88.0 % probability)\n",
            "\n",
            "Bar 62:    B U Y    (92.0 % probability)\n",
            "\n",
            "Bar 63:    B U Y    (86.0 % probability)\n",
            "\n",
            "Bar 64:    B U Y    (84.0 % probability)\n",
            "\n",
            "Bar 65:    B U Y    (86.0 % probability)\n",
            "\n",
            "Bar 66:    B U Y    (84.0 % probability)\n",
            "\n",
            "Bar 67:    B U Y    (64.0 % probability)\n",
            "\n",
            "Bar 68:    B U Y    (88.0 % probability)\n",
            "\n",
            "Bar 69:    B U Y    (86.0 % probability)\n",
            "\n",
            "Bar 70:    B U Y    (86.0 % probability)\n",
            "\n",
            "Bar 71:    B U Y    (78.0 % probability)\n",
            "\n",
            "Bar 72:    B U Y    (74.0 % probability)\n",
            "\n",
            "Bar 73:    B U Y    (76.0 % probability)\n",
            "\n",
            "Bar 74:    B U Y    (78.0 % probability)\n",
            "\n",
            "Bar 75:    B U Y    (76.0 % probability)\n",
            "\n",
            "Bar 76:    B U Y    (86.0 % probability)\n",
            "\n",
            "Bar 77:    S E L L  (88.0 % probability)\n",
            "\n",
            "Bar 78:    B U Y    (80.0 % probability)\n",
            "\n",
            "Bar 79:    B U Y    (82.0 % probability)\n",
            "\n",
            "Bar 80:    B U Y    (62.0 % probability)\n",
            "\n",
            "Bar 81:    B U Y    (82.0 % probability)\n",
            "\n",
            "Bar 82:    B U Y    (88.0 % probability)\n",
            "\n",
            "Bar 83:    B U Y    (88.0 % probability)\n",
            "\n",
            "Bar 84:    B U Y    (90.0 % probability)\n",
            "\n",
            "Bar 85:    B U Y    (88.0 % probability)\n",
            "\n",
            "Bar 86:    B U Y    (88.0 % probability)\n",
            "\n",
            "Bar 87:    B U Y    (90.0 % probability)\n",
            "\n",
            "Bar 88:    B U Y    (86.0 % probability)\n",
            "\n",
            "Bar 89:    B U Y    (52.0 % probability)\n",
            "\n",
            "Bar 90:    B U Y    (68.0 % probability)\n",
            "\n",
            "Bar 91:    B U Y    (68.0 % probability)\n",
            "\n",
            "Bar 92:    B U Y    (62.0 % probability)\n",
            "\n",
            "Bar 93:    B U Y    (57.99999999999999 % probability)\n",
            "\n",
            "Bar 94:    B U Y    (74.0 % probability)\n",
            "\n",
            "Bar 95:    B U Y    (86.0 % probability)\n",
            "\n",
            "Bar 96:    B U Y    (72.0 % probability)\n",
            "\n",
            "Bar 97:    B U Y    (86.0 % probability)\n",
            "\n",
            "Bar 98:    B U Y    (78.0 % probability)\n",
            "\n",
            "Bar 99:    B U Y    (66.0 % probability)\n",
            "\n"
          ]
        }
      ]
    },
    {
      "cell_type": "markdown",
      "source": [
        "__________________________________________________________________________________________________________________________"
      ],
      "metadata": {
        "id": "QYXyPVw2qZzO"
      }
    }
  ]
}